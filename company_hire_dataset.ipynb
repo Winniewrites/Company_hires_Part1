{
 "cells": [
  {
   "cell_type": "code",
   "execution_count": 2,
   "id": "ce575e59-0bf6-44ef-9e1e-9062a27dcefd",
   "metadata": {},
   "outputs": [
    {
     "name": "stdout",
     "output_type": "stream",
     "text": [
      "Accuracy: 0.9\n"
     ]
    },
    {
     "data": {
      "image/png": "[encoded data removed]",
      "text/plain": [
       "<Figure size 720x432 with 1 Axes>"
      ]
     },
     "metadata": {
      "needs_background": "light"
     },
     "output_type": "display_data"
    }
   ],
   "source": [
    "import pandas as pd\n",
    "import numpy as np\n",
    "from sklearn.model_selection import train_test_split\n",
    "from sklearn.linear_model import LogisticRegression\n",
    "from sklearn.metrics import accuracy_score\n",
    "import matplotlib.pyplot as plt\n",
    "from scipy.stats import chi2_contingency\n",
    "\n",
    "# Step 1: Load and preprocess the dataset\n",
    "df = pd.read_csv(\"C:/Users/Admin/Desktop/python/new/company_hire_dataset.csv\")\n",
    "\n",
    "# Add the target column which is named \"call_for_interview\"\n",
    "target_column = \"call_for_interview\"\n",
    "\n",
    "# Step 2: Determine the three best columns using chi-square test\n",
    "# Perform chi-square test on each column and select the three with the highest scores\n",
    "chi_scores = {}\n",
    "for column in df.columns:\n",
    "    if column != target_column:\n",
    "        observed = pd.crosstab(df[column], df[target_column])\n",
    "        chi2, p, _, _ = chi2_contingency(observed)\n",
    "        chi_scores[column] = chi2\n",
    "\n",
    "# Sort the columns in descending order based on chi-square scores\n",
    "selected_columns = ['years_of_experience', 'functional_competency_score', 'top1_skills_score', 'top2_skills_score', 'top3_skills_score', 'behavior_competency_score', 'top1_behavior_skill_score', 'top2_behavior_skill_score', 'top3_behavior_skill_score']\n",
    "\n",
    "# Step 3: Split the dataset into training and testing sets\n",
    "X = df[selected_columns]\n",
    "y = df[target_column]\n",
    "X_train, X_test, y_train, y_test = train_test_split(X, y, test_size=0.2, random_state=42)\n",
    "\n",
    "# Step 4: Train a logistic regression model\n",
    "model = LogisticRegression()\n",
    "model.fit(X_train, y_train)\n",
    "\n",
    "# Step 5: Predict the outcomes and calculate accuracy score\n",
    "y_pred = model.predict(X_test)\n",
    "accuracy = accuracy_score(y_test, y_pred)\n",
    "print(\"Accuracy:\", accuracy)\n",
    "\n",
    "# Step 6: Add the predicted results to the dataset\n",
    "df[\"predicted_result\"] = np.nan\n",
    "df.loc[X_test.index, \"predicted_result\"] = y_pred\n",
    "\n",
    "# Step 7: Visualize the data using a preferred chart or graph\n",
    "# Here's an example using a bar plot\n",
    "plt.figure(figsize=(10, 6))\n",
    "df[\"predicted_result\"].value_counts().plot(kind=\"bar\")\n",
    "plt.title(\"Predicted Results\")\n",
    "plt.xlabel(\"Prediction\")\n",
    "plt.ylabel(\"Count\")\n",
    "plt.show()"
   ]
  },
  {
   "cell_type": "code",
   "execution_count": null,
   "id": "82ffe3ce-f9c9-45af-b7f8-2c2125d7319e",
   "metadata": {},
   "outputs": [],
   "source": []
  }
 ],
 "metadata": {
  "kernelspec": {
   "display_name": "Python 3 (ipykernel)",
   "language": "python",
   "name": "python3"
  },
  "language_info": {
   "codemirror_mode": {
    "name": "ipython",
    "version": 3
   },
   "file_extension": ".py",
   "mimetype": "text/x-python",
   "name": "python",
   "nbconvert_exporter": "python",
   "pygments_lexer": "ipython3",
   "version": "3.9.7"
  }
 },
 "nbformat": 4,
 "nbformat_minor": 5
}
